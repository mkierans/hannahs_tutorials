{
 "cells": [
  {
   "cell_type": "markdown",
   "metadata": {},
   "source": [
    "### Tutorial for hannah:\n",
    "\n",
    "### Task: Determine if a two strings are anagrams of each other\n",
    "\n",
    "#### Coding techniques you may find useful:\n",
    "\n",
    "#### 1) For loop"
   ]
  },
  {
   "cell_type": "code",
   "execution_count": 14,
   "metadata": {
    "collapsed": false
   },
   "outputs": [
    {
     "name": "stdout",
     "output_type": "stream",
     "text": [
      "H\n",
      "e\n",
      "l\n",
      "l\n",
      "o\n"
     ]
    }
   ],
   "source": [
    "list_of_items = \"Hello\" # a string is treated as a list of characters\n",
    "for variable_name in list_of_items:\n",
    "    print(variable_name)"
   ]
  },
  {
   "cell_type": "code",
   "execution_count": 4,
   "metadata": {
    "collapsed": false
   },
   "outputs": [
    {
     "name": "stdout",
     "output_type": "stream",
     "text": [
      "<class 'int'>\n",
      "<class 'int'>\n",
      "<class 'int'>\n",
      "<class 'int'>\n",
      "<class 'str'>\n",
      "<class 'float'>\n"
     ]
    }
   ],
   "source": [
    "# notation for creating a list is to wrap in square brackets\n",
    "sample_list = [1,2,3,4,'hi', 4.5]\n",
    "for i in sample_list:\n",
    "    print(type(i))"
   ]
  },
  {
   "cell_type": "markdown",
   "metadata": {},
   "source": [
    "#### 2) String indexing"
   ]
  },
  {
   "cell_type": "code",
   "execution_count": 22,
   "metadata": {
    "collapsed": false
   },
   "outputs": [
    {
     "name": "stdout",
     "output_type": "stream",
     "text": [
      "The 0'th term in string is H\n",
      "The 1'th term in string is a\n",
      "The 2'th term in string is n\n",
      "The 3'th term in string is n\n",
      "The 4'th term in string is a\n"
     ]
    }
   ],
   "source": [
    "sample_string = \"Hannah's the best\"\n",
    "\n",
    "# a more advanced for loop, that remembers the number of loops made\n",
    "for idx, i in enumerate(sample_string):\n",
    "    if idx >= 5: # I only want to go through the for loop 5 times\n",
    "        break # use this to exit the for loop early\n",
    "    # to reference items in a list, use square brackets\n",
    "    print(\"The {}'th term in string is {}\".format(idx, i))"
   ]
  },
  {
   "cell_type": "markdown",
   "metadata": {},
   "source": [
    "#### 3) Functions\n",
    "\n",
    "If there is a block of code you want to run multiple times, put it into a function and call that function insetad"
   ]
  },
  {
   "cell_type": "code",
   "execution_count": 5,
   "metadata": {
    "collapsed": false
   },
   "outputs": [
    {
     "name": "stdout",
     "output_type": "stream",
     "text": [
      "5 is not an even number\n",
      "10 is an even number\n"
     ]
    }
   ],
   "source": [
    "def is_even(number):\n",
    "    if number % 2 == 0: # % is called modulus, it equals the remainder of the division\n",
    "        print(\"{} is an even number\".format(number))\n",
    "    else:\n",
    "        print(\"{} is not an even number\".format(number))\n",
    "    return\n",
    "        \n",
    "is_even(5)\n",
    "is_even(10)"
   ]
  },
  {
   "cell_type": "markdown",
   "metadata": {},
   "source": [
    "# Hannah's Solution"
   ]
  },
  {
   "cell_type": "code",
   "execution_count": 3,
   "metadata": {
    "collapsed": false
   },
   "outputs": [],
   "source": [
    "def is_anagram(string1, string2):\n",
    "    # write code here\n",
    "    print(\"Is {} an anagram of {}?\".format(string1, string2))\n",
    "    return"
   ]
  },
  {
   "cell_type": "markdown",
   "metadata": {},
   "source": [
    "Tests:"
   ]
  },
  {
   "cell_type": "code",
   "execution_count": 2,
   "metadata": {
    "collapsed": false
   },
   "outputs": [
    {
     "name": "stdout",
     "output_type": "stream",
     "text": [
      "Is hannah an anagram of nhanha\n",
      "Is matt an anagram of hat\n"
     ]
    }
   ],
   "source": [
    "is_anagram('hannah', 'nhanha')\n",
    "is_anagram('matt', 'hat')"
   ]
  }
 ],
 "metadata": {
  "anaconda-cloud": {},
  "kernelspec": {
   "display_name": "Python 3",
   "language": "python",
   "name": "python3"
  },
  "language_info": {
   "codemirror_mode": {
    "name": "ipython",
    "version": 3
   },
   "file_extension": ".py",
   "mimetype": "text/x-python",
   "name": "python",
   "nbconvert_exporter": "python",
   "pygments_lexer": "ipython3",
   "version": "3.6.1"
  }
 },
 "nbformat": 4,
 "nbformat_minor": 1
}
