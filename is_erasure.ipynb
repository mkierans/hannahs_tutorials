{
 "cells": [
  {
   "cell_type": "code",
   "execution_count": 32,
   "metadata": {
    "collapsed": true
   },
   "outputs": [],
   "source": [
    "def is_erasure(poem, text, verbose=False):\n",
    "    text_index = 0\n",
    "    for letter in poem:\n",
    "        match = False\n",
    "        if text_index == len(text):\n",
    "            break\n",
    "        while not match:\n",
    "            if text_index < len(text):\n",
    "                if text[text_index] == letter:\n",
    "                    match = True\n",
    "                    if verbose:\n",
    "                        print(\"Found matching letter: {} at position {}\".format(letter, text_index))\n",
    "                else:\n",
    "                    text_index += 1\n",
    "            else:\n",
    "                if verbose:\n",
    "                    print(\"Could not find a match for letter {}\".format(letter))\n",
    "                break\n",
    "        \n",
    "    if text_index < len(text):\n",
    "        print(\"Erasure poem validated!\")\n",
    "    else:\n",
    "        print(\"This is not an erasure poem!\")"
   ]
  },
  {
   "cell_type": "code",
   "execution_count": 28,
   "metadata": {
    "collapsed": true
   },
   "outputs": [],
   "source": [
    "poem = \"who goes there\"\n",
    "text = \"\"\"Efficient health care delivery systems aim to match resources to demand for services over time. Resource\n",
    "allocation decisions must be made under stochastic uncertainty. This includes uncertainty in the number\n",
    "of individuals (i.e., counts) in need of services over discrete time intervals. Examples include counts\n",
    "of patients arriving to emergency departments and counts of prescription medications distributed by\n",
    "pharmacies. Accurately forecasting count data in health care systems allows decision-makers to anticipate\n",
    "the need for services and make informed decisions about how to manage resources and purchase supplies\n",
    "over time.\"\"\""
   ]
  },
  {
   "cell_type": "code",
   "execution_count": 33,
   "metadata": {
    "collapsed": false
   },
   "outputs": [
    {
     "name": "stdout",
     "output_type": "stream",
     "text": [
      "Found matching letter: w at position 486\n",
      "Found matching letter: h at position 520\n",
      "Found matching letter: o at position 529\n",
      "Found matching letter:   at position 531\n",
      "Found matching letter: g at position 586\n",
      "Found matching letter: o at position 592\n",
      "Found matching letter: e at position 596\n",
      "Found matching letter: s at position 597\n",
      "Found matching letter:   at position 598\n",
      "Found matching letter: t at position 626\n",
      "Could not find a match for letter h\n",
      "This is not an erasure poem!\n"
     ]
    }
   ],
   "source": [
    "is_erasure(poem=poem, text=text, verbose=True)"
   ]
  }
 ],
 "metadata": {
  "anaconda-cloud": {},
  "kernelspec": {
   "display_name": "Python 3",
   "language": "python",
   "name": "python3"
  },
  "language_info": {
   "codemirror_mode": {
    "name": "ipython",
    "version": 3
   },
   "file_extension": ".py",
   "mimetype": "text/x-python",
   "name": "python",
   "nbconvert_exporter": "python",
   "pygments_lexer": "ipython3",
   "version": "3.6.1"
  }
 },
 "nbformat": 4,
 "nbformat_minor": 1
}
